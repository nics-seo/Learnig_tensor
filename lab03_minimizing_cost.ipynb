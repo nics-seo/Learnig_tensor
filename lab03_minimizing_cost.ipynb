{
 "cells": [
  {
   "cell_type": "code",
   "execution_count": 5,
   "metadata": {},
   "outputs": [],
   "source": [
    "import tensorflow as tf\n",
    "import matplotlib.pyplot as plt"
   ]
  },
  {
   "cell_type": "code",
   "execution_count": 6,
   "metadata": {},
   "outputs": [],
   "source": [
    "x_data = [1, 2, 3]\n",
    "y_data = [1, 2, 3]"
   ]
  },
  {
   "cell_type": "code",
   "execution_count": 9,
   "metadata": {},
   "outputs": [],
   "source": [
    "W = tf.Variable(tf.random_normal([1]), name = 'weight')\n",
    "X = tf.placeholder(tf.float32)\n",
    "Y = tf.placeholder(tf.float32)\n",
    "hypothesis = X * W"
   ]
  },
  {
   "cell_type": "code",
   "execution_count": 11,
   "metadata": {},
   "outputs": [],
   "source": [
    "cost = tf.reduce_mean(tf.square(hypothesis - Y))\n",
    "learning_rate = 0.1\n",
    "gradient = tf.reduce_mean((W * X - Y) * X)\n",
    "descent = W - learning_rate * gradient\n",
    "update = W.assign(descent)"
   ]
  },
  {
   "cell_type": "code",
   "execution_count": 12,
   "metadata": {},
   "outputs": [],
   "source": [
    "sess = tf.Session()\n",
    "sess.run(tf.global_variables_initializer())"
   ]
  },
  {
   "cell_type": "code",
   "execution_count": 13,
   "metadata": {},
   "outputs": [
    {
     "name": "stdout",
     "output_type": "stream",
     "text": [
      "0 0.0435372 [ 1.09658885]\n",
      "1 0.0123839 [ 1.05151403]\n",
      "2 0.00352254 [ 1.02747416]\n",
      "3 0.00100196 [ 1.01465285]\n",
      "4 0.000285005 [ 1.00781488]\n",
      "5 8.1066e-05 [ 1.00416791]\n",
      "6 2.30587e-05 [ 1.0022229]\n",
      "7 6.55927e-06 [ 1.00118554]\n",
      "8 1.86567e-06 [ 1.00063229]\n",
      "9 5.30834e-07 [ 1.00033724]\n",
      "10 1.51053e-07 [ 1.00017989]\n",
      "11 4.29982e-08 [ 1.00009596]\n",
      "12 1.22173e-08 [ 1.00005114]\n",
      "13 3.48426e-09 [ 1.0000273]\n",
      "14 9.87067e-10 [ 1.00001454]\n",
      "15 2.82043e-10 [ 1.00000775]\n",
      "16 8.02487e-11 [ 1.00000417]\n",
      "17 2.34053e-11 [ 1.00000226]\n",
      "18 6.63173e-12 [ 1.00000119]\n",
      "19 1.80478e-12 [ 1.0000006]\n",
      "20 5.16328e-13 [ 1.00000036]\n"
     ]
    }
   ],
   "source": [
    "for step in range(21):\n",
    "    sess.run(update, feed_dict={X: x_data, Y: y_data})\n",
    "    print(step, sess.run(cost, feed_dict={X: x_data, Y: y_data}), sess.run(W))"
   ]
  },
  {
   "cell_type": "code",
   "execution_count": null,
   "metadata": {},
   "outputs": [],
   "source": []
  }
 ],
 "metadata": {
  "kernelspec": {
   "display_name": "Python 3",
   "language": "python",
   "name": "python3"
  },
  "language_info": {
   "codemirror_mode": {
    "name": "ipython",
    "version": 3
   },
   "file_extension": ".py",
   "mimetype": "text/x-python",
   "name": "python",
   "nbconvert_exporter": "python",
   "pygments_lexer": "ipython3",
   "version": "3.6.3"
  }
 },
 "nbformat": 4,
 "nbformat_minor": 2
}
